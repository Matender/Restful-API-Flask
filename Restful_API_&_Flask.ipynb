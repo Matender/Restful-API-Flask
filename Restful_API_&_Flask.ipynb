{
  "nbformat": 4,
  "nbformat_minor": 0,
  "metadata": {
    "colab": {
      "provenance": []
    },
    "kernelspec": {
      "name": "python3",
      "display_name": "Python 3"
    },
    "language_info": {
      "name": "python"
    }
  },
  "cells": [
    {
      "cell_type": "markdown",
      "source": [
        "'''\n",
        "Q1. What is a RESTful API?\n",
        "Ans >> A RESTful API is a type of web API that follows the rules of REST (Representational State Transfer). It allows two software systems (like a mobile app and a server) to communicate over the internet using HTTP.\n",
        "\n",
        "Main Points:\n",
        "\n",
        "1. API means Application Programming Interface - a way for two apps to talk.\n",
        "2. REST is a set of rules for building APIs.\n",
        "3. RESTful APIs use HTTP methods:\n",
        "    GET - Read data\n",
        "    POST - Create data\n",
        "    PUT - Update data\n",
        "    DELETE - Remove data\n",
        "4.  Data is shared using URLs and usually in JSON format.\n",
        "5.  RESTful APIs are simple, fast, and commonly used in web and mobile apps.\n",
        "'''"
      ],
      "metadata": {
        "id": "1E3HG3-gaS8T"
      }
    },
    {
      "cell_type": "markdown",
      "source": [
        "'''\n",
        "Q2. Explain the concept of API Specification.\n",
        "Ans >>  API Specification means the rules and details of how an API works.\n",
        "1.     It tells what the API can do.\n",
        "2.     It shows which URL to call.\n",
        "3.     It tells which method to use – like GET, POST, PUT, DELETE.\n",
        "4.     It tells what data to send and what data will come back.\n",
        "5.     It also tells about errors (like 404 Not Found).\n",
        "6.     It helps developers to understand and use the API properly.\n",
        "7.     Tools like Swagger and Postman are used to write or test API specifications.\n",
        "'''"
      ],
      "metadata": {
        "id": "V3amTvPRdHrM"
      }
    },
    {
      "cell_type": "markdown",
      "source": [
        "'''\n",
        "Q3. What is Flask, and why is it popular for building APIs?\n",
        "1. Flask is a Python framework.\n",
        "2. It is used to make websites and APIs.\n",
        "3. Flask is small and simple to use.\n",
        "4. It is called a microframework because it gives only basic features.\n",
        "5. Flask is popular for APIs because it is easy to write and understand.\n",
        "6. It supports all HTTP methods like GET, POST, PUT, DELETE.\n",
        "7. It runs fast and needs very less code.\n",
        "8. Flask is good for beginners and small projects.\n",
        "'''\n"
      ],
      "metadata": {
        "id": "XMc4NkeFUKu6"
      }
    },
    {
      "cell_type": "markdown",
      "source": [
        "'''\n",
        "Q4. What is routing in Flask?\n",
        "Ans >>\n",
        "1.  Routing means connecting a URL to a function.\n",
        "2.  In Flask, we use routing to show what should happen when someone visits a specific link (URL).\n",
        "3.  Each route is made using the @app.route() decorator.\n",
        "4.  The function under the route runs when the user visits that URL.\n",
        "5.  Routing helps us create different pages or API endpoints.\n",
        "'''\n"
      ],
      "metadata": {
        "id": "gTna27fuWhEa"
      }
    },
    {
      "cell_type": "markdown",
      "source": [
        "'''\n",
        "Q5. How do you create a simple Flask application?\n",
        "Ans\n",
        "1. First, Flask must be installed in the system.\n",
        "2. Then, a new Python file is created to write the code.\n",
        "3. A Flask application is started by creating an object of the Flask class.\n",
        "4. After that, a route is defined using @app.route() to handle web requests.\n",
        "5. A function is written to return a message or output for that route.\n",
        "6. Finally, the app is run using the run() function.\n",
        "7. When the app runs, it opens in a web browser using\n",
        "    '''"
      ],
      "metadata": {
        "id": "XmvMKOsMXeQ8"
      }
    },
    {
      "cell_type": "markdown",
      "source": [
        "'''\n",
        "Q6. What are HTTP methods used in RESTful APIs?\n",
        "Ans\n",
        "1.  HTTP methods are commands used to communicate with a server.\n",
        "2.  They tell the server what action to perform on data.\n",
        "3.  The most common HTTP methods in RESTful APIs are:\n",
        "      GET: Used to get or read data from the server.\n",
        "\n",
        "      POST: Used to create new data on the server.\n",
        "\n",
        "      PUT: Used to update existing data completely.\n",
        "\n",
        "      PATCH: Used to update existing data partially.\n",
        "\n",
        "      DELETE: Used to remove data from the server.\n",
        "\n",
        "4.  These methods help manage data in a structured way through REST APIs.\n",
        "'''"
      ],
      "metadata": {
        "id": "s2s8aCjoYRe3"
      }
    },
    {
      "cell_type": "markdown",
      "source": [
        "'''\n",
        "Q7. What is the purpose of the @app.route() decorator in Flask?\n",
        "Ans >>\n",
        "1.  The @app.route() decorator is used to define a route in Flask.\n",
        "2.  It connects a URL (web address) to a function in the code.\n",
        "3.  When a user visits that URL, the linked function runs.\n",
        "4.  It helps Flask know what to do for different web pages or API endpoints.\n",
        "5.  Without @app.route(), Flask cannot respond to web requests.\n",
        "'''"
      ],
      "metadata": {
        "id": "uFNGXVB0ZA94"
      }
    },
    {
      "cell_type": "markdown",
      "source": [
        "'''\n",
        "Q8. What is the difference between GET and POST HTTP methods?\n",
        "Ans >>  \n",
        "1.  GET method is used to request or fetch data from a server.\n",
        "2.  POST method is used to send data to a server to create or update something.\n",
        "3.  In GET, data is sent in the URL and is visible to everyone.\n",
        "4.  In POST, data is sent inside the request body and is not visible in the URL.\n",
        "5.  GET requests can be cached and bookmarked, but POST requests cannot.\n",
        "6.  GET is generally used for retrieving data, while POST is used for submitting data.\n",
        "'''"
      ],
      "metadata": {
        "id": "FrV_MphdZe_U"
      }
    },
    {
      "cell_type": "markdown",
      "source": [
        "'''\n",
        "Q9. How do you handle errors in Flask APIs?\n",
        "Ans >>\n",
        "1.  Flask provides a way to handle errors using error handlers.\n",
        "2.  You can create functions to catch specific errors like 404 (Not Found) or 500 (Server Error).\n",
        "3.  Use the @app.errorhandler() decorator to define these functions.\n",
        "4.  Inside the error handler function, you can return a custom message or JSON response.\n",
        "5.  This helps give clear feedback when something goes wrong in the API.\n",
        "'''"
      ],
      "metadata": {
        "id": "Na-NLdzFaLfS"
      }
    },
    {
      "cell_type": "markdown",
      "source": [
        "'''\n",
        "Q10. How do you connect Flask to a SQL database?\n",
        "Ans\n",
        "1.  Flask itself does not include database support by default.\n",
        "2.  To connect Flask with a SQL database, we use extensions like Flask-SQLAlchemy.\n",
        "3.  First, install Flask-SQLAlchemy using pip.\n",
        "4.  Then, configure the database URL in your Flask app settings.\n",
        "5.  Create a database object using SQLAlchemy linked to your Flask app.\n",
        "6.  Use this object to define models (tables) and perform database operations.\n",
        "7.  This allows Flask to communicate with the SQL database easily.\n",
        "'''"
      ],
      "metadata": {
        "id": "U-v-ByskaqOn"
      }
    },
    {
      "cell_type": "markdown",
      "source": [
        "'''\n",
        "Q11. What is the role of Flask-SQLAlchemy?\n",
        "Ans >>\n",
        "1.  Flask-SQLAlchemy is an extension for Flask.\n",
        "2.  It helps Flask work easily with SQL databases.\n",
        "3.  It provides tools to create database tables as Python classes (called models).\n",
        "4.  It makes writing database queries simple and clean using Python code.\n",
        "5.  It manages the connection between Flask app and the database.\n",
        "6.  It helps handle database operations like add, update, delete, and fetch data smoothly.\n",
        "'''"
      ],
      "metadata": {
        "id": "VBnIDzVjbsr1"
      }
    },
    {
      "cell_type": "markdown",
      "source": [
        "'''\n",
        "Q12. What are Flask blueprints, and how are they useful?\n",
        "Ans >>\n",
        "1.  Flask Blueprints are a way to organize a Flask app into smaller parts.\n",
        "2.  They let you split the app’s routes, views, and code into separate modules.\n",
        "3.  This makes the app easier to manage and understand.\n",
        "4.  Blueprints help when the app becomes big and has many features.\n",
        "5.  They allow reusing code and sharing it across different projects.\n",
        "6.  Using blueprints keeps the project clean and organized.\n",
        "'''"
      ],
      "metadata": {
        "id": "PCChJDpUbGv-"
      }
    },
    {
      "cell_type": "markdown",
      "source": [
        "'''\n",
        "Q13. What is the purpose of Flask's request object?\n",
        "Ans >>\n",
        "1.  The request object in Flask holds all the information about the current client request.\n",
        "2.  It helps access data sent by the user, like form data or JSON.\n",
        "3.  Using request, you can get details like URL parameters, headers, and method type (GET, POST, etc.).\n",
        "4.  It allows the server to understand what the client is asking for.\n",
        "5.  The request object is used inside route functions to handle user input.\n",
        "'''\n",
        "\n",
        "\n"
      ],
      "metadata": {
        "id": "bXYhUjHkc7Lr"
      }
    },
    {
      "cell_type": "markdown",
      "source": [
        "'''\n",
        "Q14. How do you create a RESTful API endpoint using Flask?\n",
        "ANS >>\n",
        "1.  First, you create a Flask app.\n",
        "2.  Then, you define a route using @app.route() for the API endpoint URL.\n",
        "3.  You specify which HTTP methods (GET, POST, etc.) the endpoint will accept.\n",
        "4.  Inside the route function, you write code to handle the request and prepare a response.\n",
        "5.  Usually, the response is sent in JSON format for RESTful APIs.\n",
        "6.  Finally, you run the Flask app so it can accept requests on that endpoint.\n",
        "'''\n"
      ],
      "metadata": {
        "id": "7Vv2QmYEdeMz"
      }
    },
    {
      "cell_type": "markdown",
      "source": [
        "'''\n",
        "Q15. What is the purpose of Flask's jsonify() function?\n",
        "Ans >>\n",
        "1.  Flask's jsonify() function is used to convert Python data into JSON format.\n",
        "2.  It helps send responses from the Flask app as JSON, which is standard for APIs.\n",
        "3.  jsonify() also sets the correct content-type (application/json) in the response header.\n",
        "4.  It makes it easy to return structured data like dictionaries or lists to clients.\n",
        "'''"
      ],
      "metadata": {
        "id": "1vmBDR2Hd83x"
      }
    },
    {
      "cell_type": "markdown",
      "source": [
        "'''\n",
        "Q16. Explain Flask’s url_for() function?\n",
        "Ans >>\n",
        "1.  The url_for() function helps create URLs for Flask routes by using the function name.\n",
        "2.  It makes it easy to generate URLs dynamically in the app.\n",
        "3.  Instead of writing the URL manually, you use url_for() to avoid errors.\n",
        "4.  It helps when routes change, because URLs update automatically.\n",
        "5.  You can also pass parameters to url_for() to build URLs with variables.\n",
        "'''"
      ],
      "metadata": {
        "id": "h90gi-UceWfA"
      }
    },
    {
      "cell_type": "markdown",
      "source": [
        "'''\n",
        "Q17. How does Flask handle static files (CSS, JavaScript, etc.)?\n",
        "ANS  >>\n",
        "1.  Flask automatically serves static files from a folder named static in your project.\n",
        "2.  You put your CSS, JavaScript, images, and other static files inside this static folder.\n",
        "3.  Flask provides a special URL to access these files, usually starting with /static/.\n",
        "4.  In your HTML, you link to static files using the /static/ path.\n",
        "5.  Flask handles serving these files when a browser requests them.\n",
        "'''"
      ],
      "metadata": {
        "id": "ASFrAj7wfEsY"
      }
    },
    {
      "cell_type": "markdown",
      "source": [
        "'''\n",
        "Q18. What is an API specification, and how does it help in building a Flask API?\n",
        "ANS >>\n",
        "1.  An API specification is a detailed document that describes how an API works.\n",
        "2.  It explains the available endpoints, request methods, data formats, and responses.\n",
        "3.  API specifications help developers understand how to use or build the API correctly.\n",
        "4.  It acts like a guide or contract between the API creator and users.\n",
        "5.  When building a Flask API, the specification helps plan routes and data handling clearly.\n",
        "6.  It ensures consistency and makes development faster and easier.\n",
        "'''"
      ],
      "metadata": {
        "id": "vwwO0E8kfnjw"
      }
    },
    {
      "cell_type": "markdown",
      "source": [
        "'''\n",
        "Q19 What are HTTP status codes, and why are they important in a Flask API?\n",
        "ANS >>\n",
        "1.  HTTP status codes are numbers sent by the server to tell the client about the result of their request.\n",
        "2.  They show whether the request was successful, failed, or needs further action.\n",
        "3.  Common codes are 200 (OK), 404 (Not Found), 500 (Server Error), etc.\n",
        "4.  In a Flask API, status codes help the client understand what happened with their request.\n",
        "5.  They make communication clear between the server and the client.\n",
        "6.  Using correct status codes improves API reliability and debugging.\n",
        "'''"
      ],
      "metadata": {
        "id": "4dzjMtRAgED0"
      }
    },
    {
      "cell_type": "markdown",
      "source": [
        "'''\n",
        "Q20. How do you handle POST requests in Flask?\n",
        "Ans >>\n",
        "1.  You create a route that allows POST requests by adding methods=['POST'] in @app.route().\n",
        "2.  Inside the route function, you use the request object to get the data sent by the client.\n",
        "3.  You can access form data or JSON data from the request.\n",
        "4.  After getting the data, you process it as needed (like saving to database).\n",
        "5.  Finally, you send a response back to the client.\n",
        "'''\n"
      ],
      "metadata": {
        "id": "QsGoBBHEgaS8"
      }
    },
    {
      "cell_type": "markdown",
      "source": [
        "'''\n",
        "Q21. How would you secure a Flask API?\n",
        "ANS >>\n",
        "1.  Use authentication to verify the identity of users, like API keys or tokens.\n",
        "2.  Implement authorization to control what actions users can perform.\n",
        "3.  Use HTTPS to encrypt data sent between client and server.\n",
        "4.  Validate and sanitize all input data to prevent attacks like SQL injection.\n",
        "5.  Limit the number of requests (rate limiting) to avoid abuse.\n",
        "6.  Keep secret keys and credentials safe and never expose them publicly.\n",
        "7.  Use Flask extensions like Flask-JWT or Flask-Login for easier security management.\n",
        "'''"
      ],
      "metadata": {
        "id": "C55baib_g8Ok"
      }
    },
    {
      "cell_type": "markdown",
      "source": [
        "'''\n",
        "Q22. What is the significance of the Flask-RESTful extension?\n",
        "ANS >>\n",
        "1.  Flask-RESTful is an extension for Flask that helps build REST APIs easily.\n",
        "2.  It provides useful tools and classes to create API endpoints faster.\n",
        "3.  Makes organizing code simpler with resource-based routing.\n",
        "4.  Supports automatic parsing of request data and formatting of responses.\n",
        "5.  Helps handle HTTP methods (GET, POST, etc.) cleanly using class-based views.\n",
        "6.  Reduces the amount of code you need to write for building APIs.\n",
        "'''"
      ],
      "metadata": {
        "id": "h2fTnpG8hdmz"
      }
    },
    {
      "cell_type": "markdown",
      "source": [
        "'''\n",
        "Q23. What is the role of Flask's session object?\n",
        "ANS >>\n",
        "1.  Flask's session object is used to store data for a user across multiple requests.\n",
        "2.  It helps keep track of user information like login status or preferences.\n",
        "3.  Data in the session is stored on the server side, but a session ID is stored in the browser using cookies.\n",
        "4.  Flask encrypts session data using a secret key to keep it secure.\n",
        "5.  Sessions are useful for creating login systems and personalized user experiences.\n",
        "'''"
      ],
      "metadata": {
        "id": "F8EbgtuIhw_J"
      }
    },
    {
      "cell_type": "markdown",
      "source": [
        "**Practical**"
      ],
      "metadata": {
        "id": "hJq7NsLViSDD"
      }
    },
    {
      "cell_type": "code",
      "source": [
        "'''\n",
        "Q1. How do you create a basic Flask application?\n",
        "'''\n",
        "!pip install Flask flask-ngrok\n",
        "\n",
        "from flask import Flask\n",
        "from flask_ngrok import run_with_ngrok\n",
        "\n",
        "app = Flask(__name__)\n",
        "run_with_ngrok(app)\n",
        "\n",
        "@app.route(\"/\")\n",
        "def home():\n",
        "    return \"<h1>Hello, Flask!</h1>\"\n",
        "\n",
        "app.run"
      ],
      "metadata": {
        "colab": {
          "base_uri": "https://localhost:8080/",
          "height": 347
        },
        "id": "NzNtvOJytFMd",
        "outputId": "a1d31eef-d6d7-4d3d-9b17-74693405de0d"
      },
      "execution_count": 6,
      "outputs": [
        {
          "output_type": "stream",
          "name": "stdout",
          "text": [
            "Requirement already satisfied: Flask in /usr/local/lib/python3.12/dist-packages (3.1.2)\n",
            "Requirement already satisfied: flask-ngrok in /usr/local/lib/python3.12/dist-packages (0.0.25)\n",
            "Requirement already satisfied: blinker>=1.9.0 in /usr/local/lib/python3.12/dist-packages (from Flask) (1.9.0)\n",
            "Requirement already satisfied: click>=8.1.3 in /usr/local/lib/python3.12/dist-packages (from Flask) (8.2.1)\n",
            "Requirement already satisfied: itsdangerous>=2.2.0 in /usr/local/lib/python3.12/dist-packages (from Flask) (2.2.0)\n",
            "Requirement already satisfied: jinja2>=3.1.2 in /usr/local/lib/python3.12/dist-packages (from Flask) (3.1.6)\n",
            "Requirement already satisfied: markupsafe>=2.1.1 in /usr/local/lib/python3.12/dist-packages (from Flask) (3.0.2)\n",
            "Requirement already satisfied: werkzeug>=3.1.0 in /usr/local/lib/python3.12/dist-packages (from Flask) (3.1.3)\n",
            "Requirement already satisfied: requests in /usr/local/lib/python3.12/dist-packages (from flask-ngrok) (2.32.4)\n",
            "Requirement already satisfied: charset_normalizer<4,>=2 in /usr/local/lib/python3.12/dist-packages (from requests->flask-ngrok) (3.4.3)\n",
            "Requirement already satisfied: idna<4,>=2.5 in /usr/local/lib/python3.12/dist-packages (from requests->flask-ngrok) (3.10)\n",
            "Requirement already satisfied: urllib3<3,>=1.21.1 in /usr/local/lib/python3.12/dist-packages (from requests->flask-ngrok) (2.5.0)\n",
            "Requirement already satisfied: certifi>=2017.4.17 in /usr/local/lib/python3.12/dist-packages (from requests->flask-ngrok) (2025.8.3)\n"
          ]
        },
        {
          "output_type": "execute_result",
          "data": {
            "text/plain": [
              "<function flask_ngrok.run_with_ngrok.<locals>.new_run()>"
            ],
            "text/html": [
              "<div style=\"max-width:800px; border: 1px solid var(--colab-border-color);\"><style>\n",
              "      pre.function-repr-contents {\n",
              "        overflow-x: auto;\n",
              "        padding: 8px 12px;\n",
              "        max-height: 500px;\n",
              "      }\n",
              "\n",
              "      pre.function-repr-contents.function-repr-contents-collapsed {\n",
              "        cursor: pointer;\n",
              "        max-height: 100px;\n",
              "      }\n",
              "    </style>\n",
              "    <pre style=\"white-space: initial; background:\n",
              "         var(--colab-secondary-surface-color); padding: 8px 12px;\n",
              "         border-bottom: 1px solid var(--colab-border-color);\"><b>flask_ngrok.run_with_ngrok.&lt;locals&gt;.new_run</b><br/>def new_run()</pre><pre class=\"function-repr-contents function-repr-contents-collapsed\" style=\"\"><a class=\"filepath\" style=\"display:none\" href=\"#\">/usr/local/lib/python3.12/dist-packages/flask_ngrok.py</a>&lt;no docstring&gt;</pre>\n",
              "      <script>\n",
              "      if (google.colab.kernel.accessAllowed && google.colab.files && google.colab.files.view) {\n",
              "        for (const element of document.querySelectorAll('.filepath')) {\n",
              "          element.style.display = 'block'\n",
              "          element.onclick = (event) => {\n",
              "            event.preventDefault();\n",
              "            event.stopPropagation();\n",
              "            google.colab.files.view(element.textContent, 84);\n",
              "          };\n",
              "        }\n",
              "      }\n",
              "      for (const element of document.querySelectorAll('.function-repr-contents')) {\n",
              "        element.onclick = (event) => {\n",
              "          event.preventDefault();\n",
              "          event.stopPropagation();\n",
              "          element.classList.toggle('function-repr-contents-collapsed');\n",
              "        };\n",
              "      }\n",
              "      </script>\n",
              "      </div>"
            ]
          },
          "metadata": {},
          "execution_count": 6
        }
      ]
    },
    {
      "cell_type": "code",
      "source": [
        "'''\n",
        "Q2 How do you serve static files like images or CSS in Flask?\n",
        "'''\n",
        "import os\n",
        "\n",
        "if not os.path.exists('static'):\n",
        "    os.makedirs('static')\n",
        "    print(\"Static folder created!\")\n",
        "\n",
        "if not os.path.exists('templates'):\n",
        "    os.makedirs('templates')\n",
        "    print(\"Templates folder created!\")\n"
      ],
      "metadata": {
        "colab": {
          "base_uri": "https://localhost:8080/"
        },
        "id": "ti2gvlUptlES",
        "outputId": "574136bf-06fe-49d0-b431-748239cb85b1"
      },
      "execution_count": 5,
      "outputs": [
        {
          "output_type": "stream",
          "name": "stdout",
          "text": [
            "Static folder created!\n"
          ]
        }
      ]
    },
    {
      "cell_type": "code",
      "source": [
        "\n",
        "css_content = \"\"\"\n",
        "body {\n",
        "    font-family: Arial, sans-serif;\n",
        "    background-color: #f0f0f0;\n",
        "    text-align: center;\n",
        "    padding-top: 50px;\n",
        "}\n",
        "h1 {\n",
        "    color: #333;\n",
        "}\n",
        "\"\"\"\n",
        "\n",
        "with open('static/css/style.css', 'w') as f:\n",
        "    f.write(css_content)\n",
        "    print(\"style.css created in static/css/\")\n",
        "\n",
        "html_content = \"\"\"\n",
        "<!doctype html>\n",
        "<html lang=\"en\">\n",
        "<head>\n",
        "    <meta charset=\"utf-8\">\n",
        "    <title>Static Files in Flask</title>\n",
        "    <link rel=\"stylesheet\" href=\"{{ url_for('static', filename='css/style.css') }}\">\n",
        "</head>\n",
        "<body>\n",
        "    <h1>Hello from Flask!</h1>\n",
        "    <p>This page is styled with a static CSS file.</p>\n",
        "</body>\n",
        "</html>\n",
        "\"\"\"\n",
        "\n",
        "with open('templates/index.html', 'w') as f:\n",
        "    f.write(html_content)\n",
        "    print(\"index.html created in templates/\")"
      ],
      "metadata": {
        "colab": {
          "base_uri": "https://localhost:8080/"
        },
        "id": "qgW25Se90P_I",
        "outputId": "fb390cd8-5629-4fd3-8b41-16990c51b859"
      },
      "execution_count": 8,
      "outputs": [
        {
          "output_type": "stream",
          "name": "stdout",
          "text": [
            "style.css created in static/css/\n",
            "index.html created in templates/\n"
          ]
        }
      ]
    },
    {
      "cell_type": "code",
      "source": [
        "import os\n",
        "from flask import Flask, render_template\n",
        "from pyngrok import ngrok, conf\n",
        "\n",
        "if not os.path.exists('templates'):\n",
        "    os.makedirs('templates')\n",
        "\n",
        "if not os.path.exists('static/css'):\n",
        "    os.makedirs('static/css')\n",
        "\n",
        "with open('templates/index.html', 'w') as f:\n",
        "    f.write(\"\"\"\n",
        "<!doctype html>\n",
        "<html lang=\"en\">\n",
        "<head>\n",
        "    <meta charset=\"utf-8\">\n",
        "    <title>Flask Static Files</title>\n",
        "    <link rel=\"stylesheet\" href=\"{{ url_for('static', filename='css/style.css') }}\">\n",
        "</head>\n",
        "<body>\n",
        "    <h1>Hello from Flask!</h1>\n",
        "    <p>This page is styled with a static CSS file.</p>\n",
        "</body>\n",
        "</html>\n",
        "\"\"\")\n",
        "\n",
        "with open('static/css/style.css', 'w') as f:\n",
        "    f.write(\"\"\"\n",
        "body {\n",
        "    font-family: Arial, sans-serif;\n",
        "    background-color: #f0f0f0;\n",
        "    text-align: center;\n",
        "    padding-top: 50px;\n",
        "}\n",
        "h1 {\n",
        "    color: #333;\n",
        "}\n",
        "\"\"\")\n",
        "\n",
        "\n",
        "app = Flask(__name__)\n",
        "\n",
        "port = 5001\n",
        "os.environ[\"FLASK_RUN_PORT\"] = str(port)\n",
        "\n",
        "public_url = ngrok.connect(port).public_url\n",
        "\n",
        "@app.route(\"/\")\n",
        "def home():\n",
        "    return render_template(\"index.html\")\n",
        "\n",
        "print(f\" * Running on {public_url}\")\n",
        "\n",
        "app.run()"
      ],
      "metadata": {
        "colab": {
          "base_uri": "https://localhost:8080/",
          "height": 411
        },
        "id": "DRjIo0gU1HmI",
        "outputId": "b33ad580-66fc-4bb7-a961-d7fe48c2b168"
      },
      "execution_count": 10,
      "outputs": [
        {
          "output_type": "stream",
          "name": "stderr",
          "text": [
            "ERROR:pyngrok.process.ngrok:t=2025-09-25T17:06:07+0000 lvl=eror msg=\"failed to reconnect session\" obj=tunnels.session err=\"authentication failed: Usage of ngrok requires a verified account and authtoken.\\n\\nSign up for an account: https://dashboard.ngrok.com/signup\\nInstall your authtoken: https://dashboard.ngrok.com/get-started/your-authtoken\\r\\n\\r\\nERR_NGROK_4018\\r\\n\"\n"
          ]
        },
        {
          "output_type": "error",
          "ename": "PyngrokNgrokError",
          "evalue": "The ngrok process errored on start: authentication failed: Usage of ngrok requires a verified account and authtoken.\\n\\nSign up for an account: https://dashboard.ngrok.com/signup\\nInstall your authtoken: https://dashboard.ngrok.com/get-started/your-authtoken\\r\\n\\r\\nERR_NGROK_4018\\r\\n.",
          "traceback": [
            "\u001b[0;31m---------------------------------------------------------------------------\u001b[0m",
            "\u001b[0;31mPyngrokNgrokError\u001b[0m                         Traceback (most recent call last)",
            "\u001b[0;32m/tmp/ipython-input-583536548.py\u001b[0m in \u001b[0;36m<cell line: 0>\u001b[0;34m()\u001b[0m\n\u001b[1;32m     44\u001b[0m \u001b[0mos\u001b[0m\u001b[0;34m.\u001b[0m\u001b[0menviron\u001b[0m\u001b[0;34m[\u001b[0m\u001b[0;34m\"FLASK_RUN_PORT\"\u001b[0m\u001b[0;34m]\u001b[0m \u001b[0;34m=\u001b[0m \u001b[0mstr\u001b[0m\u001b[0;34m(\u001b[0m\u001b[0mport\u001b[0m\u001b[0;34m)\u001b[0m\u001b[0;34m\u001b[0m\u001b[0;34m\u001b[0m\u001b[0m\n\u001b[1;32m     45\u001b[0m \u001b[0;34m\u001b[0m\u001b[0m\n\u001b[0;32m---> 46\u001b[0;31m \u001b[0mpublic_url\u001b[0m \u001b[0;34m=\u001b[0m \u001b[0mngrok\u001b[0m\u001b[0;34m.\u001b[0m\u001b[0mconnect\u001b[0m\u001b[0;34m(\u001b[0m\u001b[0mport\u001b[0m\u001b[0;34m)\u001b[0m\u001b[0;34m.\u001b[0m\u001b[0mpublic_url\u001b[0m\u001b[0;34m\u001b[0m\u001b[0;34m\u001b[0m\u001b[0m\n\u001b[0m\u001b[1;32m     47\u001b[0m \u001b[0;34m\u001b[0m\u001b[0m\n\u001b[1;32m     48\u001b[0m \u001b[0;34m@\u001b[0m\u001b[0mapp\u001b[0m\u001b[0;34m.\u001b[0m\u001b[0mroute\u001b[0m\u001b[0;34m(\u001b[0m\u001b[0;34m\"/\"\u001b[0m\u001b[0;34m)\u001b[0m\u001b[0;34m\u001b[0m\u001b[0;34m\u001b[0m\u001b[0m\n",
            "\u001b[0;32m/usr/local/lib/python3.12/dist-packages/pyngrok/ngrok.py\u001b[0m in \u001b[0;36mconnect\u001b[0;34m(addr, proto, name, pyngrok_config, **options)\u001b[0m\n\u001b[1;32m    385\u001b[0m     \u001b[0mlogger\u001b[0m\u001b[0;34m.\u001b[0m\u001b[0minfo\u001b[0m\u001b[0;34m(\u001b[0m\u001b[0;34mf\"Opening tunnel named: {name}\"\u001b[0m\u001b[0;34m)\u001b[0m\u001b[0;34m\u001b[0m\u001b[0;34m\u001b[0m\u001b[0m\n\u001b[1;32m    386\u001b[0m \u001b[0;34m\u001b[0m\u001b[0m\n\u001b[0;32m--> 387\u001b[0;31m     \u001b[0mapi_url\u001b[0m \u001b[0;34m=\u001b[0m \u001b[0mget_ngrok_process\u001b[0m\u001b[0;34m(\u001b[0m\u001b[0mpyngrok_config\u001b[0m\u001b[0;34m)\u001b[0m\u001b[0;34m.\u001b[0m\u001b[0mapi_url\u001b[0m\u001b[0;34m\u001b[0m\u001b[0;34m\u001b[0m\u001b[0m\n\u001b[0m\u001b[1;32m    388\u001b[0m \u001b[0;34m\u001b[0m\u001b[0m\n\u001b[1;32m    389\u001b[0m     \u001b[0mlogger\u001b[0m\u001b[0;34m.\u001b[0m\u001b[0mdebug\u001b[0m\u001b[0;34m(\u001b[0m\u001b[0;34mf\"Creating tunnel with options: {options}\"\u001b[0m\u001b[0;34m)\u001b[0m\u001b[0;34m\u001b[0m\u001b[0;34m\u001b[0m\u001b[0m\n",
            "\u001b[0;32m/usr/local/lib/python3.12/dist-packages/pyngrok/ngrok.py\u001b[0m in \u001b[0;36mget_ngrok_process\u001b[0;34m(pyngrok_config)\u001b[0m\n\u001b[1;32m    201\u001b[0m     \u001b[0minstall_ngrok\u001b[0m\u001b[0;34m(\u001b[0m\u001b[0mpyngrok_config\u001b[0m\u001b[0;34m)\u001b[0m\u001b[0;34m\u001b[0m\u001b[0;34m\u001b[0m\u001b[0m\n\u001b[1;32m    202\u001b[0m \u001b[0;34m\u001b[0m\u001b[0m\n\u001b[0;32m--> 203\u001b[0;31m     \u001b[0;32mreturn\u001b[0m \u001b[0mprocess\u001b[0m\u001b[0;34m.\u001b[0m\u001b[0mget_process\u001b[0m\u001b[0;34m(\u001b[0m\u001b[0mpyngrok_config\u001b[0m\u001b[0;34m)\u001b[0m\u001b[0;34m\u001b[0m\u001b[0;34m\u001b[0m\u001b[0m\n\u001b[0m\u001b[1;32m    204\u001b[0m \u001b[0;34m\u001b[0m\u001b[0m\n\u001b[1;32m    205\u001b[0m \u001b[0;34m\u001b[0m\u001b[0m\n",
            "\u001b[0;32m/usr/local/lib/python3.12/dist-packages/pyngrok/process.py\u001b[0m in \u001b[0;36mget_process\u001b[0;34m(pyngrok_config)\u001b[0m\n\u001b[1;32m    269\u001b[0m         \u001b[0;32mreturn\u001b[0m \u001b[0m_current_processes\u001b[0m\u001b[0;34m[\u001b[0m\u001b[0mpyngrok_config\u001b[0m\u001b[0;34m.\u001b[0m\u001b[0mngrok_path\u001b[0m\u001b[0;34m]\u001b[0m\u001b[0;34m\u001b[0m\u001b[0;34m\u001b[0m\u001b[0m\n\u001b[1;32m    270\u001b[0m \u001b[0;34m\u001b[0m\u001b[0m\n\u001b[0;32m--> 271\u001b[0;31m     \u001b[0;32mreturn\u001b[0m \u001b[0m_start_process\u001b[0m\u001b[0;34m(\u001b[0m\u001b[0mpyngrok_config\u001b[0m\u001b[0;34m)\u001b[0m\u001b[0;34m\u001b[0m\u001b[0;34m\u001b[0m\u001b[0m\n\u001b[0m\u001b[1;32m    272\u001b[0m \u001b[0;34m\u001b[0m\u001b[0m\n\u001b[1;32m    273\u001b[0m \u001b[0;34m\u001b[0m\u001b[0m\n",
            "\u001b[0;32m/usr/local/lib/python3.12/dist-packages/pyngrok/process.py\u001b[0m in \u001b[0;36m_start_process\u001b[0;34m(pyngrok_config)\u001b[0m\n\u001b[1;32m    445\u001b[0m \u001b[0;34m\u001b[0m\u001b[0m\n\u001b[1;32m    446\u001b[0m         \u001b[0;32mif\u001b[0m \u001b[0mngrok_process\u001b[0m\u001b[0;34m.\u001b[0m\u001b[0mstartup_error\u001b[0m \u001b[0;32mis\u001b[0m \u001b[0;32mnot\u001b[0m \u001b[0;32mNone\u001b[0m\u001b[0;34m:\u001b[0m\u001b[0;34m\u001b[0m\u001b[0;34m\u001b[0m\u001b[0m\n\u001b[0;32m--> 447\u001b[0;31m             raise PyngrokNgrokError(f\"The ngrok process errored on start: {ngrok_process.startup_error}.\",\n\u001b[0m\u001b[1;32m    448\u001b[0m                                     \u001b[0mngrok_process\u001b[0m\u001b[0;34m.\u001b[0m\u001b[0mlogs\u001b[0m\u001b[0;34m,\u001b[0m\u001b[0;34m\u001b[0m\u001b[0;34m\u001b[0m\u001b[0m\n\u001b[1;32m    449\u001b[0m                                     ngrok_process.startup_error)\n",
            "\u001b[0;31mPyngrokNgrokError\u001b[0m: The ngrok process errored on start: authentication failed: Usage of ngrok requires a verified account and authtoken.\\n\\nSign up for an account: https://dashboard.ngrok.com/signup\\nInstall your authtoken: https://dashboard.ngrok.com/get-started/your-authtoken\\r\\n\\r\\nERR_NGROK_4018\\r\\n."
          ]
        }
      ]
    },
    {
      "cell_type": "code",
      "source": [],
      "metadata": {
        "id": "euFy9Q3p1t1n"
      },
      "execution_count": null,
      "outputs": []
    }
  ]
}